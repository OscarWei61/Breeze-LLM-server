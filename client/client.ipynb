{
 "cells": [
  {
   "cell_type": "code",
   "execution_count": 1,
   "metadata": {},
   "outputs": [],
   "source": [
    "from urllib.parse import quote\n",
    "import requests"
   ]
  },
  {
   "cell_type": "code",
   "execution_count": 2,
   "metadata": {},
   "outputs": [],
   "source": [
    "# Remember to replace the IP address with the actual IP address of the server\n",
    "server_ip = \"http://3.24.123.31\"\n",
    "port = \"5100\""
   ]
  },
  {
   "cell_type": "markdown",
   "metadata": {},
   "source": [
    "Examle for testing the LLM endpoint"
   ]
  },
  {
   "cell_type": "code",
   "execution_count": 7,
   "metadata": {},
   "outputs": [
    {
     "name": "stdout",
     "output_type": "stream",
     "text": [
      "Question :  跟我介紹聯發科\n",
      "Answer :  聯發科技（MediaTek）是一家全球領先的半導體公司，主要專注於研發和生產智慧型手機、平板電腦等行動裝置所需之晶片。成立於1997年，聯發科在全球擁有超過4,000名員工，並提供一系列的解決方案，包括SoC（系統單晶片）、無線通訊技術、多媒體處理器以及其他相關產品。\n",
      "\n",
      "聯發科技的產品廣泛應用於智慧型手機、平板電腦、電視、機上盒等消費性電子產品，同時也提供物聯網、車用電子和工業用之半導體解決方案。其主要競爭對手包括高通（Qualcomm）、英特爾（Intel）和三星（Samsung\n"
     ]
    }
   ],
   "source": [
    "# Prompt the user to input the content for LLM inquiry\n",
    "input_string = input(\"想詢問LLM的內容 : \")\n",
    "\n",
    "# Encode the input string in a URL\n",
    "encoded_string = quote(input_string, safe='')\n",
    "\n",
    "# Construct the URL for making a GET request to the LLM server\n",
    "api_endpoint = \"/generate_text\"\n",
    "url = f\"{server_ip}:{port}{api_endpoint}?input_string={encoded_string}\"\n",
    "\n",
    "# Send a GET request to the LLM server and store the response\n",
    "response = requests.get(url)\n",
    "\n",
    "# Extract the generated text from the JSON response\n",
    "output_string = response.json()[\"result\"]\n",
    "\n",
    "print(\"Question : \", input_string)\n",
    "# Print the generated text as the answer to the user's inquiry\n",
    "print(\"Answer : \", output_string)"
   ]
  },
  {
   "cell_type": "markdown",
   "metadata": {},
   "source": [
    "Example for generating advices for users"
   ]
  },
  {
   "cell_type": "code",
   "execution_count": 5,
   "metadata": {},
   "outputs": [
    {
     "name": "stdout",
     "output_type": "stream",
     "text": [
      "您的肝功能問題可能是由脂肪肝所引起，主要原因包括肥胖、代謝症候群、飲食習慣和遺傳因素。以下是一些生活中可以採取的措施來改善脂肪肝：\n",
      "\n",
      "1. 控制體重：保持健康的身體質量指數（BMI）有助於降低脂肪肝風險。定期進行體重管理並遵循營養師或醫生的建議，以維持理想體重。\n",
      "2. 調整飲食：減少高糖、高脂肪食物和大量簡單碳水化合物的攝入量。多選擇蔬菜、水果、全穀類、低脂蛋白質等健康食材，有助於降低脂肪肝風險。\n",
      "3. 定期運動：進行適量且規律的運動有助於控制體重並改善代謝症候群。建議每周至少進行150分鐘中等強度或75分鐘高強度有氧運動。\n",
      "4. 避免飲酒：過量飲酒會增加脂肪肝風險，因此減少或避免飲酒有助於降低脂肪肝的發生。\n",
      "5. 定期體檢：定期進行健康檢查有助於早期發現脂肪肝並及時採取措施。\n",
      "6. 家族史注意：如果家人患有脂肪肝，則需要更加關注自身的肝臟健康，定期進行體檢和遵循醫生建議。\n",
      "7. 壓力管理：保持良好的心理狀態有助於降低代謝症候群風險。學習有效的減壓方法，如運動、冥想或社交活動等。\n",
      "8. \n"
     ]
    }
   ],
   "source": [
    "api_endpoint = \"/generate_advices\"\n",
    "url = f\"{server_ip}:{port}{api_endpoint}\"\n",
    "params = {\n",
    "    \"disease_name\": \"肝功能\",\n",
    "    \"disease_factor\": \"脂肪肝\",\n",
    "    \"patient_customized_content\": \"\"\"\n",
    "    肥胖：身體質量指數（BMI）過高是最常見的風險因素。\n",
    "    代謝症候群：包括高血糖、高血壓、異常膽固醇水平和腰圍過粗。\n",
    "    飲食：高糖、高脂肪的飲食尤其是大量簡單碳水化合物的攝入與NAFLD有關。\n",
    "    遺傳因素：家族史也可能影響NAFLD的發展。\n",
    "    \"\"\"\n",
    "}\n",
    "\n",
    "response = requests.get(url, params=params)\n",
    "if response.status_code == 200:\n",
    "    result = response.json()[\"result\"]\n",
    "    print(result)\n",
    "else:\n",
    "    print(\"Failed to get response. Status code:\", response.status_code)"
   ]
  },
  {
   "cell_type": "markdown",
   "metadata": {},
   "source": [
    "Example for generating schedule for users"
   ]
  },
  {
   "cell_type": "code",
   "execution_count": 6,
   "metadata": {},
   "outputs": [
    {
     "name": "stdout",
     "output_type": "stream",
     "text": [
      "以下是根據您的檢查結果和原因提供的一周生活狀態改善計劃表。請注意，每個人的需求不同，因此建議在執行前諮詢專業醫療人員。\n",
      "```vbnet\n",
      "| 時間     | 早餐      | 中餐      | 晚餐      | 運動       |\n",
      "|----------|-----------|-----------|-----------|------------|\n",
      "| 周一     | 全穀類+蔬菜 | 雞肉+蔬菜 | 魚+糙米飯 | 30分鐘慢跑 |\n",
      "| 周二     | 燕麥+水果  | 豆腐+蔬菜 | 牛肉+糙米飯 | 20分鐘有氧運動 |\n",
      "| 周三     | 全麥麵包+水果 | 魚肉+蔬菜 | 雞肉+糙米飯 | 15分鐘伸展運動 |\n",
      "| 周四     | 燕麥+水果   | 豆腐+蔬菜 | 牛肉+糙米飯 | 30分鐘慢跑 |\n",
      "| 周五     | 全穀類+蔬菜 | 雞肉+蔬菜 | 魚+糙米飯 | 20分鐘有氧運動 |\n",
      "| 周六     | 全麥麵包+水果 | 魚肉+蔬菜 | 雞肉+糙米飯 | 15分鐘伸展運動 |\n",
      "| 周日     | 燕麥+水果   | 豆腐+蔬菜 | 牛肉+糙米飯 | 30分鐘慢跑 |\n",
      "```\n",
      "* 早餐：選擇全穀類、燕麥或全麥麵包等富含纖維的食物，搭配水果。避免高糖和高脂肪食物。\n",
      "* 中餐：以蛋白質豐富的食材為主，如雞肉、魚肉、豆腐等，搭配蔬菜。減少簡單碳水化合物的攝入。\n",
      "* 晚餐：選擇糙米飯或其他全穀類主食，搭配魚類或瘦肉。避免過量食用肉類。\n",
      "* 運動：每周至少進行3-5次有氧運動（慢跑、游泳等）和2-3次力量訓練（伸展、有氧等）。\n",
      "* \n"
     ]
    }
   ],
   "source": [
    "api_endpoint = \"/generate_schedule\"\n",
    "url = f\"{server_ip}:{port}{api_endpoint}\"\n",
    "params = {\n",
    "    \"disease_name\": \"肝功能\",\n",
    "    \"disease_factor\": \"脂肪肝\",\n",
    "    \"patient_customized_content\": \"\"\"\n",
    "    肥胖：身體質量指數（BMI）過高是最常見的風險因素。\n",
    "    代謝症候群：包括高血糖、高血壓、異常膽固醇水平和腰圍過粗。\n",
    "    飲食：高糖、高脂肪的飲食尤其是大量簡單碳水化合物的攝入與NAFLD有關。\n",
    "    遺傳因素：家族史也可能影響NAFLD的發展。\n",
    "    \"\"\"\n",
    "}\n",
    "\n",
    "response = requests.get(url, params=params)\n",
    "if response.status_code == 200:\n",
    "    result = response.json()[\"result\"]\n",
    "    print(result)\n",
    "else:\n",
    "    print(\"Failed to get response. Status code:\", response.status_code)"
   ]
  },
  {
   "cell_type": "code",
   "execution_count": 26,
   "metadata": {},
   "outputs": [
    {
     "name": "stdout",
     "output_type": "stream",
     "text": [
      "藥物與毒素引起之肝損傷 檢查結果 肝功能異常 進一步追蹤 肥胖\n"
     ]
    }
   ],
   "source": [
    "api_endpoint = \"/get_retireve_advices\"\n",
    "url = f\"{server_ip}:{port}{api_endpoint}\"\n",
    "params = {\n",
    "    \"query\": \"藥物直接毒性\",\n",
    "}\n",
    "\n",
    "response = requests.get(url, params=params)\n",
    "if response.status_code == 200:\n",
    "    result = response.json()[\"advices\"]\n",
    "    print(result)\n",
    "else:\n",
    "    print(\"Failed to get response. Status code:\", response.status_code)"
   ]
  },
  {
   "cell_type": "code",
   "execution_count": 28,
   "metadata": {},
   "outputs": [
    {
     "name": "stdout",
     "output_type": "stream",
     "text": [
      "心臟病患者服用的藥物可能會導致血壓數據升高至200以上。在回答病患的提問時，您可能需要參考以下資料：\n",
      "\n",
      "1. 藥物直接毒性：某些心臟病用藥可能對肝臟造成損傷，因此患者應定期進行肝功能檢查以監測其健康狀況。\n",
      "2. 生活型態改善：建議患者保持良好的生活習慣，如均衡飲食、規律運動和避免吸菸等，有助於降低血壓並減少藥物副作用。\n",
      "3. 藥物直接毒性：部分心臟病用藥可能會導致血壓數據升高至200\n"
     ]
    }
   ],
   "source": [
    "api_endpoint = \"/user_input_query_preprocess\"\n",
    "url = f\"{server_ip}:{port}{api_endpoint}\"\n",
    "params = {\n",
    "    \"query\": \"心臟病 藥物直接毒性\",\n",
    "}\n",
    "\n",
    "response = requests.get(url, params=params)\n",
    "if response.status_code == 200:\n",
    "    result = response.json()[\"advices\"]\n",
    "    print(result)\n",
    "else:\n",
    "    print(\"Failed to get response. Status code:\", response.status_code)"
   ]
  }
 ],
 "metadata": {
  "kernelspec": {
   "display_name": "web",
   "language": "python",
   "name": "python3"
  },
  "language_info": {
   "codemirror_mode": {
    "name": "ipython",
    "version": 3
   },
   "file_extension": ".py",
   "mimetype": "text/x-python",
   "name": "python",
   "nbconvert_exporter": "python",
   "pygments_lexer": "ipython3",
   "version": "3.7.16"
  }
 },
 "nbformat": 4,
 "nbformat_minor": 2
}
